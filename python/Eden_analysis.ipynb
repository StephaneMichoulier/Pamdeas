{
 "cells": [
  {
   "cell_type": "markdown",
   "metadata": {
    "hide_input": false
   },
   "source": [
    "# Hello !\n",
    "## I'm here to help you to analyse data from Eden"
   ]
  },
  {
   "cell_type": "code",
   "execution_count": null,
   "metadata": {},
   "outputs": [],
   "source": [
    "import numpy as np\n",
    "import pandas as pd\n",
    "import matplotlib as mpl\n",
    "import matplotlib.pyplot as plt\n",
    "import matplotlib.colors as colors\n",
    "import glob\n",
    "mpl.rc_file_defaults()"
   ]
  },
  {
   "cell_type": "code",
   "execution_count": null,
   "metadata": {},
   "outputs": [],
   "source": [
    "# Folder in which you saved your files (by default, they are in build)\n",
    "folder = \"../build/\""
   ]
  },
  {
   "cell_type": "code",
   "execution_count": null,
   "metadata": {},
   "outputs": [],
   "source": [
    "# Display list of available files\n",
    "imsort = sorted(glob.glob(folder+'output*'),\n",
    "                key=lambda f: int(''.join(filter(str.isdigit, f))))\n",
    "imsort = [sort[9:] for sort in imsort]\n",
    "imsort"
   ]
  },
  {
   "cell_type": "code",
   "execution_count": null,
   "metadata": {
    "hide_input": false
   },
   "outputs": [],
   "source": [
    "files = [\n",
    "    'outputpor_M_10.out',\n",
    "    'outputpor_M_15.out',\n",
    "    'outputpor_M_25.out',\n",
    "    'outputpor_M_50.out',\n",
    "    'outputpor_M_75.out',\n",
    "    'outputpor_M_100.out',\n",
    "    'outputpor_M_150.out',\n",
    "    'outputpor_M_200.out',\n",
    "    'outputpor_M_250.out',\n",
    "    'outputpor_M_300.out'\n",
    "]"
   ]
  },
  {
   "cell_type": "code",
   "execution_count": null,
   "metadata": {
    "hide_input": false
   },
   "outputs": [],
   "source": [
    "# Create tuple of index and label\n",
    "print(\"Reading data...\")\n",
    "try:\n",
    "    # Check if files is a list\n",
    "    if type(files) is not list:\n",
    "        files = [files]\n",
    "\n",
    "    # Add folder path\n",
    "    files = [folder+file for file in files]\n",
    "\n",
    "    # Create dataframe indices and labels\n",
    "    with open(files[0], 'r') as f:\n",
    "        ligne = f.readline().split()\n",
    "        indices = [line.split(\"_\")[0] for line in ligne]\n",
    "        label = {key: r\"$\"+line.replace(\"_\", \" \")\n",
    "                 .replace(\" \", \"$ $\")+\"$\" for (key, line) in zip(indices, ligne)}\n",
    "\n",
    "    # Create a list of dataframes\n",
    "    data = [pd.read_csv(file, delim_whitespace=True, names=indices, skiprows=1)\n",
    "            for file in files]\n",
    "    print(\"Ok\\n\")\n",
    "    print(\"List of available columns:\")\n",
    "    print(data[0].columns.tolist())\n",
    "except:\n",
    "    print(\"Problem with files\")\n",
    "\n",
    "# minmax function for auto-adjust and logscale axes\n",
    "def minmax(data, columns, roundpower):\n",
    "    def floor_power_of_10(n):\n",
    "        return np.sign(n)*10**np.floor(np.math.log(np.abs(n), 10)) if n != 0 else 0\n",
    "\n",
    "    def ceil_power_of_10(n):\n",
    "        return np.sign(n)*10**np.ceil(np.math.log(np.abs(n), 10)) if n != 0 else 0\n",
    "\n",
    "    minimum = min([datai.loc[:, columns].min() for datai in data])\n",
    "    maximum = max([datai.loc[:, columns].max() for datai in data])\n",
    "\n",
    "    if roundpower:\n",
    "        minimum, maximum = floor_power_of_10(\n",
    "            minimum), ceil_power_of_10(maximum)\n",
    "    return minimum, maximum\n",
    "\n",
    "# Everything here should remain untouched"
   ]
  },
  {
   "cell_type": "code",
   "execution_count": null,
   "metadata": {
    "hide_input": false
   },
   "outputs": [],
   "source": [
    "# Modify this cell to plot what you want !\n",
    "\n",
    "# Axis\n",
    "# t, r, mass, filfac, size, St, cg, sigma, rhog,dustfrac, vrel, omegak, drdt, dmdt, drag_reg\n",
    "x = \"r\"\n",
    "y = \"size\"\n",
    "z = \"filfac\"\n",
    "\n",
    "# Z axis option\n",
    "z_axe_on = True\n",
    "round_power = True\n",
    "\n",
    "# Auto-adjust min-max\n",
    "aax = True\n",
    "aay = True\n",
    "aaz = True\n",
    "\n",
    "# Adjust min-max manually\n",
    "xmin, xmax = 1, 300\n",
    "ymin, ymax = 1e-7, 1e5\n",
    "zmin, zmax = 1e-5, 1\n",
    "\n",
    "# Logscale\n",
    "logx = True\n",
    "logy = True\n",
    "logz = True\n",
    "loglinval = 1e-5  # Symlognorm linthresh & linscale value\n",
    "\n",
    "# Fontsize\n",
    "fsize = 14\n",
    "pointsize = 0.1\n",
    "\n",
    "# Legend box location\n",
    "location = \"lower left\"\n",
    "\n",
    "# cmap\n",
    "cmap = 'rainbow'\n",
    "\n",
    "# Figure options\n",
    "figname = x+'-'+y+'-'+z if z_axe_on is True else x+'-'+y\n",
    "figname = 'fig_'+figname+'_fragmod.png'\n",
    "\n",
    "figsave = False"
   ]
  },
  {
   "cell_type": "code",
   "execution_count": null,
   "metadata": {
    "hide_input": false
   },
   "outputs": [],
   "source": [
    "# Check if axes are correct\n",
    "if (x not in label or y not in label or (z_axe_on is True and z not in label)):\n",
    "    print(\"Error, quantities not found, use\")\n",
    "else:\n",
    "    print(\"x,y,z axes Ok\")"
   ]
  },
  {
   "cell_type": "code",
   "execution_count": null,
   "metadata": {
    "hide_input": false
   },
   "outputs": [],
   "source": [
    "print(\"Creating figure\")\n",
    "fig, axes = plt.subplots(1, 1, sharex='col', sharey='row',\n",
    "                         gridspec_kw={'hspace': 0, 'wspace': 0, 'left': 0.11,\n",
    "                                      'right': 0.99, 'bottom': 0.1, 'top': .975},\n",
    "                         figsize=(6.4, 4.8), dpi=300)\n",
    "\n",
    "# Plot data depending on options\n",
    "for datai in data:\n",
    "    if z_axe_on:\n",
    "        if aaz:\n",
    "            minimum, maximum = minmax(data, z, round_power)\n",
    "            if logz:\n",
    "                line = axes.scatter(datai.loc[:, x], datai.loc[:, y], c=datai.loc[:, z],\n",
    "                                    s=pointsize, norm=colors.SymLogNorm(linthresh=loglinval, linscale=loglinval,\n",
    "                                                                        vmin=minimum, vmax=maximum, base=10), cmap=cmap)\n",
    "            else:\n",
    "                line = axes.scatter(datai.loc[:, x], datai.loc[:, y], c=datai.loc[:, z],\n",
    "                                    s=pointsize, vmin=minimum, vmax=maximum, cmap=cmap)\n",
    "        else:\n",
    "            if logz:\n",
    "                line = axes.scatter(datai.loc[:, x], datai.loc[:, y], c=datai.loc[:, z],\n",
    "                                    s=pointsize, norm=colors.SymLogNorm(linthresh=loglinval, linscale=loglinval,\n",
    "                                                                        vmin=zmin, vmax=zmax, base=10), cmap=cmap)\n",
    "            else:\n",
    "                line = axes.scatter(datai.loc[:, x], datai.loc[:, y], c=datai.loc[:, z],\n",
    "                                    s=pointsize, vmin=zmin, vmax=zmax, cmap=cmap)\n",
    "    else:\n",
    "        line = axes.scatter(datai.loc[:, x], datai.loc[:, y], s=0.1)\n",
    "    \n",
    "    # Label for the different radii\n",
    "    line.set_label(r\"$R_0=$\" + str(datai.r[0]) + \" au\")\n",
    "\n",
    "# Colorbar\n",
    "if z_axe_on:\n",
    "    clb = fig.colorbar(line, pad=0.005)\n",
    "    clb.set_label(label[z])\n",
    "\n",
    "# Axes and labels\n",
    "if logx:\n",
    "    axes.set(xscale='log')\n",
    "if logy:\n",
    "    axes.set(yscale='log')\n",
    "if not aax:\n",
    "    axes.set(xlim=(xmin, xmax))\n",
    "if not aay:\n",
    "    axes.set(ylim=(ymin, ymax))\n",
    "\n",
    "axes.set(xlabel=label[x])\n",
    "axes.set(ylabel=label[y])\n",
    "axes.legend(fontsize='small', loc=location)\n",
    "\n",
    "# save figure\n",
    "if figsave:\n",
    "    plt.savefig(figname, bbox_inches='tight')\n",
    "    print(figname+\" saved\")\n",
    "\n",
    "print(\"Your figure ->\")\n",
    "\n",
    "plt.show()"
   ]
  },
  {
   "cell_type": "code",
   "execution_count": null,
   "metadata": {},
   "outputs": [],
   "source": []
  }
 ],
 "metadata": {
  "kernelspec": {
   "display_name": "Python 3",
   "language": "python",
   "name": "python3"
  },
  "language_info": {
   "codemirror_mode": {
    "name": "ipython",
    "version": 3
   },
   "file_extension": ".py",
   "mimetype": "text/x-python",
   "name": "python",
   "nbconvert_exporter": "python",
   "pygments_lexer": "ipython3",
   "version": "3.8.8"
  }
 },
 "nbformat": 4,
 "nbformat_minor": 4
}
